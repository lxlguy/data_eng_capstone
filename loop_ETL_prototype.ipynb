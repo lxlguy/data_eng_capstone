{
 "cells": [
  {
   "cell_type": "code",
   "execution_count": 1,
   "metadata": {
    "ExecuteTime": {
     "end_time": "2020-05-22T03:25:01.889482Z",
     "start_time": "2020-05-22T03:25:01.845982Z"
    }
   },
   "outputs": [],
   "source": [
    "from src.sql_queries import fact, staging_tables, dim_tables, bridge_link\n",
    "import json\n",
    "import pandas as pd\n",
    "from sodapy import Socrata\n",
    "from IPython.core.display import display, HTML\n",
    "from IPython.core.interactiveshell import InteractiveShell\n",
    "import psycopg2\n",
    "InteractiveShell.ast_node_interactivity = \"all\"\n",
    "display(HTML(\"<style>.container { width:100% !important; }</style>\"))\n",
    "pd.set_option('display.max_colwidth', None)"
   ]
  },
  {
   "cell_type": "code",
   "execution_count": 2,
   "metadata": {
    "ExecuteTime": {
     "end_time": "2020-05-22T03:25:05.957204Z",
     "start_time": "2020-05-22T03:25:02.460382Z"
    }
   },
   "outputs": [
    {
     "data": {
      "text/html": [
       "<style>.container { width:100% !important; }</style>"
      ],
      "text/plain": [
       "<IPython.core.display.HTML object>"
      ]
     },
     "metadata": {},
     "output_type": "display_data"
    }
   ],
   "source": [
    "with open('credentials.json') as f:\n",
    "    data = json.load(f)\n",
    "    socrates_id = data['socrates_id']\n",
    "    socrates_key = data['socrates_api_key']\n",
    "    app_token = data['app_token']\n",
    "    \n",
    "inventory_db = \"6vkj-f5xf\"\n",
    "loans_db = \"5src-czff\"\n",
    "codes_db = \"pbt3-ytbc\"\n",
    "client = Socrata(\"data.seattle.gov\", app_token, username=socrates_id,password=socrates_key, timeout=100)\n",
    "\n"
   ]
  },
  {
   "cell_type": "code",
   "execution_count": 10,
   "metadata": {
    "ExecuteTime": {
     "end_time": "2020-05-22T03:38:17.274008Z",
     "start_time": "2020-05-22T03:38:17.258295Z"
    }
   },
   "outputs": [],
   "source": [
    "def download_data(client_connection,database,params, limit = 50000):\n",
    "    if 'where' in params:\n",
    "        where_cond = params['where']\n",
    "        print(where_cond)\n",
    "    else:\n",
    "        where_cond = None\n",
    "    #first, get a count of the rows:\n",
    "    target_count = client_connection.get(database, where=where_cond, select = 'count(*)')\n",
    "    target_count = int(target_count[0]['count']) #since responses are always encoded as strings\n",
    "    counter = 0\n",
    "    all_df=[]\n",
    "    while counter < target_count:\n",
    "        results = client_connection.get(database, limit=limit, offset=counter, **params)\n",
    "        temp_df = pd.DataFrame.from_records(results)\n",
    "        all_df.append(temp_df)\n",
    "        counter+=limit\n",
    "    master_df = pd.concat(all_df)\n",
    "    return master_df"
   ]
  },
  {
   "cell_type": "code",
   "execution_count": 21,
   "metadata": {
    "ExecuteTime": {
     "end_time": "2020-05-22T03:40:25.523236Z",
     "start_time": "2020-05-22T03:40:22.969333Z"
    }
   },
   "outputs": [
    {
     "name": "stdout",
     "output_type": "stream",
     "text": [
      "checkoutdatetime > \"2020-01-03T00:00:00.000\" and checkoutdatetime < \"2020-01-03T23:59:59.000\"\n"
     ]
    }
   ],
   "source": [
    "where = 'checkoutdatetime > \"2020-01-03T00:00:00.000\" and checkoutdatetime < \"2020-01-03T23:59:59.000\"'\n",
    "params = {'where':where}\n",
    "another_df = download_data(client, loans_db, params)"
   ]
  },
  {
   "cell_type": "markdown",
   "metadata": {},
   "source": [
    "download codes from API:\n",
    "    every month\n",
    "    df = download_data(client, codes_db,{})\n",
    "    file_name = 'raw_codes_{}.csv'.format(datetime.datetime.now().strftime('%Y-%m-%d'))\n",
    "    df.to_csv('./raw/{}'.format(file_name), sep='|', index=False)\n",
    "\n",
    "upload to s3:\n",
    "    check that item do not exist\n",
    "    upload\n",
    "\n",
    "upload this to redshift:\n",
    "    cur.create table\n",
    "    cur.commit to staging\n",
    "    \n",
    "delete last month's item from s3\n",
    "\n",
    "download items from API:\n",
    "    every month\n",
    "\n",
    "conn.autocommit = True\n",
    "cur = conn.cursor()\n",
    "\n",
    "\n",
    "stage to dim and facts:\n",
    "    cur.execute(alter table dim_ collection_backup)"
   ]
  },
  {
   "cell_type": "code",
   "execution_count": 37,
   "metadata": {
    "ExecuteTime": {
     "end_time": "2020-05-22T04:47:57.479085Z",
     "start_time": "2020-05-22T04:47:57.474099Z"
    }
   },
   "outputs": [
    {
     "data": {
      "text/plain": [
       "'2020-05-22'"
      ]
     },
     "execution_count": 37,
     "metadata": {},
     "output_type": "execute_result"
    }
   ],
   "source": [
    "import datetime\n",
    "datetime.datetime.now().strftime('%Y-%m-%d')"
   ]
  },
  {
   "cell_type": "code",
   "execution_count": null,
   "metadata": {},
   "outputs": [],
   "source": []
  }
 ],
 "metadata": {
  "kernelspec": {
   "display_name": "Python 3",
   "language": "python",
   "name": "python3"
  },
  "language_info": {
   "codemirror_mode": {
    "name": "ipython",
    "version": 3
   },
   "file_extension": ".py",
   "mimetype": "text/x-python",
   "name": "python",
   "nbconvert_exporter": "python",
   "pygments_lexer": "ipython3",
   "version": "3.6.10"
  },
  "toc": {
   "base_numbering": 1,
   "nav_menu": {},
   "number_sections": true,
   "sideBar": true,
   "skip_h1_title": false,
   "title_cell": "Table of Contents",
   "title_sidebar": "Contents",
   "toc_cell": false,
   "toc_position": {},
   "toc_section_display": true,
   "toc_window_display": false
  },
  "varInspector": {
   "cols": {
    "lenName": 16,
    "lenType": 16,
    "lenVar": 40
   },
   "kernels_config": {
    "python": {
     "delete_cmd_postfix": "",
     "delete_cmd_prefix": "del ",
     "library": "var_list.py",
     "varRefreshCmd": "print(var_dic_list())"
    },
    "r": {
     "delete_cmd_postfix": ") ",
     "delete_cmd_prefix": "rm(",
     "library": "var_list.r",
     "varRefreshCmd": "cat(var_dic_list()) "
    }
   },
   "types_to_exclude": [
    "module",
    "function",
    "builtin_function_or_method",
    "instance",
    "_Feature"
   ],
   "window_display": false
  }
 },
 "nbformat": 4,
 "nbformat_minor": 4
}
